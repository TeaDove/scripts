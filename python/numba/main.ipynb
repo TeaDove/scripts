{
 "cells": [
  {
   "cell_type": "code",
   "execution_count": 1,
   "id": "agreed-anniversary",
   "metadata": {},
   "outputs": [],
   "source": [
    "from numba import njit\n",
    "import numpy as np\n",
    "\n",
    "import random"
   ]
  },
  {
   "cell_type": "code",
   "execution_count": 22,
   "id": "bc6cdc43",
   "metadata": {},
   "outputs": [],
   "source": [
    "@njit\n",
    "def sum_array_njit(inp):\n",
    "    I, J = inp.shape\n",
    "    mysum = 0\n",
    "    for i in range(I):\n",
    "        for j in range(J):\n",
    "            mysum += inp[i, j]\n",
    "    return mysum\n",
    "\n",
    "\n",
    "def sum_array(inp):\n",
    "    I, J = inp.shape\n",
    "    mysum = 0\n",
    "    for i in range(I):\n",
    "        for j in range(J):\n",
    "            mysum += inp[i, j]\n",
    "    return mysum"
   ]
  },
  {
   "cell_type": "code",
   "execution_count": 23,
   "id": "caa65694",
   "metadata": {},
   "outputs": [],
   "source": [
    "arr = np.random.random((3000, 3000))"
   ]
  },
  {
   "cell_type": "code",
   "execution_count": 24,
   "id": "cb9d699f",
   "metadata": {},
   "outputs": [
    {
     "name": "stdout",
     "output_type": "stream",
     "text": [
      "CPU times: user 2.21 s, sys: 0 ns, total: 2.21 s\n",
      "Wall time: 2.21 s\n"
     ]
    },
    {
     "data": {
      "text/plain": [
       "4499913.566947709"
      ]
     },
     "execution_count": 24,
     "metadata": {},
     "output_type": "execute_result"
    }
   ],
   "source": [
    "%time sum_array(arr)\n",
    "# Результат около 2.2с"
   ]
  },
  {
   "cell_type": "code",
   "execution_count": 25,
   "id": "beaf3b61",
   "metadata": {},
   "outputs": [
    {
     "name": "stdout",
     "output_type": "stream",
     "text": [
      "CPU times: user 108 ms, sys: 0 ns, total: 108 ms\n",
      "Wall time: 107 ms\n"
     ]
    },
    {
     "data": {
      "text/plain": [
       "4499913.566947709"
      ]
     },
     "execution_count": 25,
     "metadata": {},
     "output_type": "execute_result"
    }
   ],
   "source": [
    "%time sum_array_njit(arr)\n",
    "# Результат около 25мс"
   ]
  }
 ],
 "metadata": {
  "celltoolbar": "Edit Metadata",
  "kernelspec": {
   "display_name": "Python 3",
   "language": "python",
   "name": "python3"
  },
  "language_info": {
   "codemirror_mode": {
    "name": "ipython",
    "version": 3
   },
   "file_extension": ".py",
   "mimetype": "text/x-python",
   "name": "python",
   "nbconvert_exporter": "python",
   "pygments_lexer": "ipython3",
   "version": "3.8.5-final"
  }
 },
 "nbformat": 4,
 "nbformat_minor": 5
}
